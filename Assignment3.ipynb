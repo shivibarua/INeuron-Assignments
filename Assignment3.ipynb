{
 "cells": [
  {
   "cell_type": "code",
   "execution_count": null,
   "id": "239b882e",
   "metadata": {},
   "outputs": [],
   "source": [
    "1. Why are functions advantageous to have in your programs?"
   ]
  },
  {
   "cell_type": "code",
   "execution_count": null,
   "id": "9a06c8ed",
   "metadata": {},
   "outputs": [],
   "source": [
    "Functions reduce the need for duplicate code. This makes programs shorter, easier to read, and easier to update."
   ]
  },
  {
   "cell_type": "code",
   "execution_count": null,
   "id": "a1daa1b1",
   "metadata": {},
   "outputs": [],
   "source": [
    "2. When does the code in a function execute: when the function is defined or when the function is called?"
   ]
  },
  {
   "cell_type": "code",
   "execution_count": null,
   "id": "c902fcfe",
   "metadata": {},
   "outputs": [],
   "source": [
    "The code in a function executes when the function is called, not when the function is defined."
   ]
  },
  {
   "cell_type": "code",
   "execution_count": null,
   "id": "a6c9e58a",
   "metadata": {},
   "outputs": [],
   "source": [
    "3. What statement creates a function?"
   ]
  },
  {
   "cell_type": "code",
   "execution_count": null,
   "id": "a864b8d2",
   "metadata": {},
   "outputs": [],
   "source": [
    "The def statement defines (that is, creates) a function."
   ]
  },
  {
   "cell_type": "code",
   "execution_count": null,
   "id": "84f2cdcc",
   "metadata": {},
   "outputs": [],
   "source": [
    "4. What is the difference between a function and a function call?"
   ]
  },
  {
   "cell_type": "code",
   "execution_count": null,
   "id": "fb1b86ef",
   "metadata": {},
   "outputs": [],
   "source": [
    "A function consists of the def statement and the code in its def clause.\n",
    "\n",
    "A function call is what moves the program execution into the function, \n",
    "and the function call evaluates to the function's return value."
   ]
  },
  {
   "cell_type": "code",
   "execution_count": null,
   "id": "e5449f85",
   "metadata": {},
   "outputs": [],
   "source": [
    "5. How many global scopes are there in a Python program? How many local scopes?"
   ]
  },
  {
   "cell_type": "code",
   "execution_count": null,
   "id": "855f394d",
   "metadata": {},
   "outputs": [],
   "source": [
    "There is one global scope, and a local scope is created whenever a function is called."
   ]
  },
  {
   "cell_type": "code",
   "execution_count": null,
   "id": "dbd17325",
   "metadata": {},
   "outputs": [],
   "source": [
    "6. What happens to variables in a local scope when the function call returns?"
   ]
  },
  {
   "cell_type": "code",
   "execution_count": null,
   "id": "5cb81a55",
   "metadata": {},
   "outputs": [],
   "source": [
    "When a function returns, the local scope is destroyed, and all the variables in it are forgotten."
   ]
  },
  {
   "cell_type": "code",
   "execution_count": null,
   "id": "9132b4ea",
   "metadata": {},
   "outputs": [],
   "source": [
    "7. What is a return value? Can a return value be part of an expression?"
   ]
  },
  {
   "cell_type": "code",
   "execution_count": null,
   "id": "22af50a9",
   "metadata": {},
   "outputs": [],
   "source": [
    "A return value is the value that a function call evaluates to. Like any value, \n",
    "a return value can be used as part of an expression."
   ]
  },
  {
   "cell_type": "code",
   "execution_count": null,
   "id": "dade06b0",
   "metadata": {},
   "outputs": [],
   "source": [
    "8. If a function does not have a return statement, what is the return value of a call to that function?"
   ]
  },
  {
   "cell_type": "code",
   "execution_count": null,
   "id": "ae60f743",
   "metadata": {},
   "outputs": [],
   "source": [
    "If there is no return statement for a function, its return value is None."
   ]
  },
  {
   "cell_type": "code",
   "execution_count": null,
   "id": "db1a4f5a",
   "metadata": {},
   "outputs": [],
   "source": [
    "9. How can you force a variable in a function to refer to the global variable?"
   ]
  },
  {
   "cell_type": "code",
   "execution_count": null,
   "id": "5b42358a",
   "metadata": {},
   "outputs": [],
   "source": [
    "A global statement will force a variable in a function to refer to the global variable."
   ]
  },
  {
   "cell_type": "code",
   "execution_count": null,
   "id": "d5ed9311",
   "metadata": {},
   "outputs": [],
   "source": [
    "10. What is the data type of None?"
   ]
  },
  {
   "cell_type": "code",
   "execution_count": null,
   "id": "a6b2c4ea",
   "metadata": {},
   "outputs": [],
   "source": [
    "The data type of None is NoneType."
   ]
  },
  {
   "cell_type": "code",
   "execution_count": null,
   "id": "0ee6b936",
   "metadata": {},
   "outputs": [],
   "source": [
    "11. What does the import areallyourpetsnamederic statement do?"
   ]
  },
  {
   "cell_type": "code",
   "execution_count": null,
   "id": "d0d2a6c6",
   "metadata": {},
   "outputs": [],
   "source": [
    "That import statement imports a module named areallyourpetsnamederic. \n",
    "(This is not a real Python module, by the way.)"
   ]
  },
  {
   "cell_type": "code",
   "execution_count": null,
   "id": "22ec01d7",
   "metadata": {},
   "outputs": [],
   "source": [
    "12. If you had a function named bacon() in a module named spam, how would you call it after importing spam?"
   ]
  },
  {
   "cell_type": "code",
   "execution_count": null,
   "id": "90b7bcec",
   "metadata": {},
   "outputs": [],
   "source": [
    "This function can be called with spam.bacon()."
   ]
  },
  {
   "cell_type": "code",
   "execution_count": null,
   "id": "0f8e67d0",
   "metadata": {},
   "outputs": [],
   "source": [
    "13. How can you prevent a program from crashing when it gets an error?"
   ]
  },
  {
   "cell_type": "code",
   "execution_count": null,
   "id": "5cda685d",
   "metadata": {},
   "outputs": [],
   "source": [
    "Place the line of code that might cause an error in a try clause."
   ]
  },
  {
   "cell_type": "code",
   "execution_count": null,
   "id": "91c52a86",
   "metadata": {},
   "outputs": [],
   "source": [
    "14. What goes in the try clause? What goes in the except clause?"
   ]
  },
  {
   "cell_type": "code",
   "execution_count": null,
   "id": "5e650a01",
   "metadata": {},
   "outputs": [],
   "source": [
    "The code that could potentially cause an error goes in the try clause.\n",
    "\n",
    "The code that executes if an error happens goes in the except clause."
   ]
  }
 ],
 "metadata": {
  "kernelspec": {
   "display_name": "Python 3 (ipykernel)",
   "language": "python",
   "name": "python3"
  },
  "language_info": {
   "codemirror_mode": {
    "name": "ipython",
    "version": 3
   },
   "file_extension": ".py",
   "mimetype": "text/x-python",
   "name": "python",
   "nbconvert_exporter": "python",
   "pygments_lexer": "ipython3",
   "version": "3.9.7"
  }
 },
 "nbformat": 4,
 "nbformat_minor": 5
}
