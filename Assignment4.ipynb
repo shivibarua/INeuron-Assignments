{
 "cells": [
  {
   "cell_type": "code",
   "execution_count": null,
   "id": "77f85a57",
   "metadata": {},
   "outputs": [],
   "source": [
    "1. What exactly is []?"
   ]
  },
  {
   "cell_type": "code",
   "execution_count": null,
   "id": "ed65d899",
   "metadata": {},
   "outputs": [],
   "source": [
    "The empty list value, which is a list value that contains no items. This is similar to how '' is the empty string value."
   ]
  },
  {
   "cell_type": "code",
   "execution_count": null,
   "id": "521e5871",
   "metadata": {},
   "outputs": [],
   "source": [
    "2. In a list of values stored in a variable called spam,\n",
    "How would you assign the value 'hello' as the third value in a list stored in a variable named spam? \n",
    "(Assume spam contains [2, 4, 6, 8, 10].)\n",
    "\n",
    "For the following three questions, let's say spam contains the list ['a', 'b', 'c', 'd']."
   ]
  },
  {
   "cell_type": "code",
   "execution_count": null,
   "id": "49893809",
   "metadata": {},
   "outputs": [],
   "source": [
    "spam[2] = 'hello' (Notice that the third value in a list is at index 2 because the first index is 0.) "
   ]
  },
  {
   "cell_type": "code",
   "execution_count": null,
   "id": "9a8b2c40",
   "metadata": {},
   "outputs": [],
   "source": [
    "3. What does spam[int(int('3' * 2) // 11)] evaluate to?"
   ]
  },
  {
   "cell_type": "code",
   "execution_count": null,
   "id": "eb5ea017",
   "metadata": {},
   "outputs": [],
   "source": [
    "'d' (Note that '3' * 2 is the string '33', which is passed to int() before being divided by 11. \n",
    "     This eventually evaluates to 3. Expressions can be used wherever values are used.)"
   ]
  },
  {
   "cell_type": "code",
   "execution_count": null,
   "id": "e811fa02",
   "metadata": {},
   "outputs": [],
   "source": [
    "4. What does spam[-1] evaluate to?"
   ]
  },
  {
   "cell_type": "code",
   "execution_count": null,
   "id": "a2672df0",
   "metadata": {},
   "outputs": [],
   "source": [
    "'d' (Negative indexes count from the end.)"
   ]
  },
  {
   "cell_type": "code",
   "execution_count": null,
   "id": "fceca676",
   "metadata": {},
   "outputs": [],
   "source": [
    "5. What does spam[:2] evaluate to?\n",
    "\n",
    "For the following three questions, let's say bacon contains the list [3.14, 'cat', 11, 'cat', True]."
   ]
  },
  {
   "cell_type": "code",
   "execution_count": 1,
   "id": "22b5be16",
   "metadata": {},
   "outputs": [
    {
     "data": {
      "text/plain": [
       "['a', 'b']"
      ]
     },
     "execution_count": 1,
     "metadata": {},
     "output_type": "execute_result"
    }
   ],
   "source": [
    "['a', 'b']"
   ]
  },
  {
   "cell_type": "code",
   "execution_count": null,
   "id": "96728905",
   "metadata": {},
   "outputs": [],
   "source": [
    "6. What does bacon.index('cat') evaluate to?"
   ]
  },
  {
   "cell_type": "code",
   "execution_count": 2,
   "id": "edb5f269",
   "metadata": {},
   "outputs": [
    {
     "data": {
      "text/plain": [
       "1"
      ]
     },
     "execution_count": 2,
     "metadata": {},
     "output_type": "execute_result"
    }
   ],
   "source": [
    "1"
   ]
  },
  {
   "cell_type": "code",
   "execution_count": null,
   "id": "1a0f631c",
   "metadata": {},
   "outputs": [],
   "source": [
    "7. What does bacon.append(99) make the list value in bacon look like?"
   ]
  },
  {
   "cell_type": "code",
   "execution_count": 3,
   "id": "9c99c4fb",
   "metadata": {},
   "outputs": [
    {
     "data": {
      "text/plain": [
       "[3.14, 'cat', 11, 'cat', True, 99]"
      ]
     },
     "execution_count": 3,
     "metadata": {},
     "output_type": "execute_result"
    }
   ],
   "source": [
    "[3.14, 'cat', 11, 'cat', True, 99]"
   ]
  },
  {
   "cell_type": "code",
   "execution_count": null,
   "id": "997706a6",
   "metadata": {},
   "outputs": [],
   "source": [
    "8. What does bacon.remove('cat') make the list value in bacon look like?"
   ]
  },
  {
   "cell_type": "code",
   "execution_count": 4,
   "id": "7171026c",
   "metadata": {},
   "outputs": [
    {
     "data": {
      "text/plain": [
       "[3.14, 11, 'cat', True]"
      ]
     },
     "execution_count": 4,
     "metadata": {},
     "output_type": "execute_result"
    }
   ],
   "source": [
    "[3.14, 11, 'cat', True]"
   ]
  },
  {
   "cell_type": "code",
   "execution_count": null,
   "id": "b2109c64",
   "metadata": {},
   "outputs": [],
   "source": [
    "9. What are the operators for list concatenation and list replication?"
   ]
  },
  {
   "cell_type": "code",
   "execution_count": null,
   "id": "ec2b14ce",
   "metadata": {},
   "outputs": [],
   "source": [
    "The operator for list concatenation is +, while the operator for replication is *. (This is the same as for strings.)"
   ]
  },
  {
   "cell_type": "code",
   "execution_count": null,
   "id": "09471603",
   "metadata": {},
   "outputs": [],
   "source": [
    "10. What is the difference between the append() and insert() list methods?"
   ]
  },
  {
   "cell_type": "code",
   "execution_count": null,
   "id": "b2397fa8",
   "metadata": {},
   "outputs": [],
   "source": [
    "While append() will add values only to the end of a list, insert() can add them anywhere in the list."
   ]
  },
  {
   "cell_type": "code",
   "execution_count": null,
   "id": "852bc035",
   "metadata": {},
   "outputs": [],
   "source": [
    "11. What are two method to remove values from a list?"
   ]
  },
  {
   "cell_type": "code",
   "execution_count": null,
   "id": "d84bdbca",
   "metadata": {},
   "outputs": [],
   "source": [
    "The del statement and the remove() list method are two ways to remove values from a list."
   ]
  },
  {
   "cell_type": "code",
   "execution_count": null,
   "id": "d13e38f4",
   "metadata": {},
   "outputs": [],
   "source": [
    "12. Describe how list values and string values are identical."
   ]
  },
  {
   "cell_type": "code",
   "execution_count": null,
   "id": "6f9237a5",
   "metadata": {},
   "outputs": [],
   "source": [
    "Both lists and strings can be passed to len(), \n",
    "have indexes and slices, be used in for loops, be concatenated or replicated, and be used with the in and not in operators."
   ]
  },
  {
   "cell_type": "code",
   "execution_count": null,
   "id": "a582eb80",
   "metadata": {},
   "outputs": [],
   "source": [
    "13. What is the difference between lists and tuples?"
   ]
  },
  {
   "cell_type": "code",
   "execution_count": null,
   "id": "d573713d",
   "metadata": {},
   "outputs": [],
   "source": [
    "Lists are mutable; they can have values added, removed, or changed. Tuples are immutable; \n",
    "they cannot be changed at all. Also, tuples are written using parentheses, ( and ), \n",
    "while lists use the square brackets, [ and ]."
   ]
  },
  {
   "cell_type": "code",
   "execution_count": null,
   "id": "3c0d2e54",
   "metadata": {},
   "outputs": [],
   "source": [
    "14. How do you type a tuple value that only contains the integer 42?"
   ]
  },
  {
   "cell_type": "code",
   "execution_count": null,
   "id": "2b78e950",
   "metadata": {},
   "outputs": [],
   "source": [
    "(42,) (The trailing comma is mandatory.)"
   ]
  },
  {
   "cell_type": "code",
   "execution_count": null,
   "id": "ebcbd034",
   "metadata": {},
   "outputs": [],
   "source": [
    "15. How can you get the tuple form of a list value? How can you get the list form of a tuple value?"
   ]
  },
  {
   "cell_type": "code",
   "execution_count": null,
   "id": "720cecfd",
   "metadata": {},
   "outputs": [],
   "source": [
    "The tuple() and list() functions, respectively"
   ]
  },
  {
   "cell_type": "code",
   "execution_count": null,
   "id": "d184f93d",
   "metadata": {},
   "outputs": [],
   "source": [
    "16. Variables that \"contain\" list values do not actually contain lists directly. What do they contain instead?"
   ]
  },
  {
   "cell_type": "code",
   "execution_count": null,
   "id": "05dfa8f9",
   "metadata": {},
   "outputs": [],
   "source": [
    "They contain references to list values."
   ]
  },
  {
   "cell_type": "code",
   "execution_count": null,
   "id": "41a03075",
   "metadata": {},
   "outputs": [],
   "source": [
    "17. What is the difference between copy.copy() and copy.deepcopy()?"
   ]
  },
  {
   "cell_type": "code",
   "execution_count": null,
   "id": "39804d02",
   "metadata": {},
   "outputs": [],
   "source": [
    "The copy.copy() function will do a shallow copy of a list, while the copy.deepcopy() function will do a deep copy of a list. \n",
    "That is only copy.deepcopy() will duplicate any lists inside the list.\n",
    "\n"
   ]
  }
 ],
 "metadata": {
  "kernelspec": {
   "display_name": "Python 3 (ipykernel)",
   "language": "python",
   "name": "python3"
  },
  "language_info": {
   "codemirror_mode": {
    "name": "ipython",
    "version": 3
   },
   "file_extension": ".py",
   "mimetype": "text/x-python",
   "name": "python",
   "nbconvert_exporter": "python",
   "pygments_lexer": "ipython3",
   "version": "3.9.7"
  }
 },
 "nbformat": 4,
 "nbformat_minor": 5
}
