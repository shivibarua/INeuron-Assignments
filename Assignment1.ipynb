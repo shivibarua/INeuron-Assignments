{
 "cells": [
  {
   "cell_type": "code",
   "execution_count": null,
   "id": "e846f13d",
   "metadata": {},
   "outputs": [],
   "source": [
    "1. In the below elements which of them are values or an expression? eg:- n be\n",
    "integer or string and expressions will be mathematical operators."
   ]
  },
  {
   "cell_type": "code",
   "execution_count": null,
   "id": "11460737",
   "metadata": {},
   "outputs": [],
   "source": [
    "* - Expression\n",
    "\n",
    "'hello'- Value\n",
    "\n",
    "-87.8 - Value\n",
    "\n",
    "- Expression\n",
    "\n",
    "/ - Expression \n",
    "\n",
    "+ - Expression\n",
    "\n",
    "6 - Value"
   ]
  },
  {
   "cell_type": "code",
   "execution_count": null,
   "id": "ad959f4a",
   "metadata": {},
   "outputs": [],
   "source": [
    "2. What is the difference between string and variable?"
   ]
  },
  {
   "cell_type": "code",
   "execution_count": null,
   "id": "d03dcf80",
   "metadata": {},
   "outputs": [],
   "source": [
    "String: String can be written in quotes such: \"apple\", 'apple'\n",
    "\n",
    "Variable: It is the thing in which we can store data."
   ]
  },
  {
   "cell_type": "code",
   "execution_count": null,
   "id": "789ae805",
   "metadata": {},
   "outputs": [],
   "source": [
    "3. Describe three different data types."
   ]
  },
  {
   "cell_type": "code",
   "execution_count": null,
   "id": "b1a3772a",
   "metadata": {},
   "outputs": [],
   "source": [
    "List: The List is used for storing multiple data items in a single variable.\n",
    "\n",
    "Integer: Integer can store only numerical values.\n",
    "\n",
    "Float: Float can store only floating values such as 233.33, 22.2, etc."
   ]
  },
  {
   "cell_type": "code",
   "execution_count": null,
   "id": "10a38910",
   "metadata": {},
   "outputs": [],
   "source": [
    "4. What is an expression made up of? What do all expressions do? "
   ]
  },
  {
   "cell_type": "code",
   "execution_count": null,
   "id": "1a986bd0",
   "metadata": {},
   "outputs": [],
   "source": [
    "Expression is made up of values, containers, and mathematical operators (operands) \n",
    "e.g a = 2 + 3 and expressions are used to evaluate the values or represent the result on the screen."
   ]
  },
  {
   "cell_type": "code",
   "execution_count": null,
   "id": "9c4d979a",
   "metadata": {},
   "outputs": [],
   "source": [
    "5. This assignment statements, like spam = 10. What is the difference between an expression and a statement?"
   ]
  },
  {
   "cell_type": "code",
   "execution_count": null,
   "id": "76eb8016",
   "metadata": {},
   "outputs": [],
   "source": [
    "Expression is made up of values, containers, and mathematical operators (operands) and \n",
    "the statement is just like a command that a python interpreter executes like print."
   ]
  },
  {
   "cell_type": "code",
   "execution_count": null,
   "id": "9180bc8b",
   "metadata": {},
   "outputs": [],
   "source": [
    "6. After running the following code, what does the variable bacon contain?"
   ]
  },
  {
   "cell_type": "code",
   "execution_count": 3,
   "id": "31e4476b",
   "metadata": {},
   "outputs": [],
   "source": [
    "bacon = 22"
   ]
  },
  {
   "cell_type": "code",
   "execution_count": 4,
   "id": "94f90bce",
   "metadata": {},
   "outputs": [
    {
     "data": {
      "text/plain": [
       "23"
      ]
     },
     "execution_count": 4,
     "metadata": {},
     "output_type": "execute_result"
    }
   ],
   "source": [
    "bacon + 1"
   ]
  },
  {
   "cell_type": "code",
   "execution_count": null,
   "id": "07b7534f",
   "metadata": {},
   "outputs": [],
   "source": [
    "sol: It gives 23 as execution code "
   ]
  },
  {
   "cell_type": "code",
   "execution_count": null,
   "id": "a98505d4",
   "metadata": {},
   "outputs": [],
   "source": [
    "7. What should the values of the following two terms be ?"
   ]
  },
  {
   "cell_type": "code",
   "execution_count": 5,
   "id": "603c4118",
   "metadata": {},
   "outputs": [
    {
     "data": {
      "text/plain": [
       "'spamspamspam'"
      ]
     },
     "execution_count": 5,
     "metadata": {},
     "output_type": "execute_result"
    }
   ],
   "source": [
    "'spam' + 'spamspam'"
   ]
  },
  {
   "cell_type": "code",
   "execution_count": 6,
   "id": "d8765452",
   "metadata": {},
   "outputs": [
    {
     "data": {
      "text/plain": [
       "'spamspamspam'"
      ]
     },
     "execution_count": 6,
     "metadata": {},
     "output_type": "execute_result"
    }
   ],
   "source": [
    "'spam' * 3"
   ]
  },
  {
   "cell_type": "code",
   "execution_count": null,
   "id": "d254b685",
   "metadata": {},
   "outputs": [],
   "source": [
    "It will be the same"
   ]
  },
  {
   "cell_type": "code",
   "execution_count": null,
   "id": "b3a87557",
   "metadata": {},
   "outputs": [],
   "source": [
    "8. Why is eggs a valid variable name while 100 is invalid ?"
   ]
  },
  {
   "cell_type": "code",
   "execution_count": null,
   "id": "fcea0b3f",
   "metadata": {},
   "outputs": [],
   "source": [
    "Because we cant start giving variable an integer name. if we, \n",
    "we should begin with, a string-like alphabet name then integer. e100 or eggs100 is valid."
   ]
  },
  {
   "cell_type": "code",
   "execution_count": null,
   "id": "fb7df3f6",
   "metadata": {},
   "outputs": [],
   "source": [
    "9. What three functions can be used to get the integer, floating-point number, or string version of a value?"
   ]
  },
  {
   "cell_type": "code",
   "execution_count": null,
   "id": "0a57ab00",
   "metadata": {},
   "outputs": [],
   "source": [
    "str(), int(), float() "
   ]
  },
  {
   "cell_type": "code",
   "execution_count": null,
   "id": "c1e8d39f",
   "metadata": {},
   "outputs": [],
   "source": [
    "10. Why does this expression cause an error? How can you fix it?"
   ]
  },
  {
   "cell_type": "code",
   "execution_count": 12,
   "id": "f159b4a1",
   "metadata": {},
   "outputs": [
    {
     "data": {
      "text/plain": [
       "'I have eaten99burritos'"
      ]
     },
     "execution_count": 12,
     "metadata": {},
     "output_type": "execute_result"
    }
   ],
   "source": [
    "'I have eaten'  + str(99) +  'burritos' "
   ]
  },
  {
   "cell_type": "code",
   "execution_count": null,
   "id": "c4897338",
   "metadata": {},
   "outputs": [],
   "source": [
    "Because 99 is an integer it cannot be concatenated with strings,\n",
    "if we have to concatenate it we need to do typecasting."
   ]
  }
 ],
 "metadata": {
  "kernelspec": {
   "display_name": "Python 3 (ipykernel)",
   "language": "python",
   "name": "python3"
  },
  "language_info": {
   "codemirror_mode": {
    "name": "ipython",
    "version": 3
   },
   "file_extension": ".py",
   "mimetype": "text/x-python",
   "name": "python",
   "nbconvert_exporter": "python",
   "pygments_lexer": "ipython3",
   "version": "3.9.7"
  }
 },
 "nbformat": 4,
 "nbformat_minor": 5
}
