{
 "cells": [
  {
   "cell_type": "markdown",
   "id": "4cd2177f",
   "metadata": {},
   "source": [
    "# Assignment 11 Solutions\n",
    "\n",
    "\n",
    "Q1. What is the concept of a metaclass?\n",
    "Ans: Metaclass in Python is a class of a class that defines how a class behaves. A class is itself a instance of Metaclass, and any Instance of Class in Python is an Instance of type metaclass. E.g. Type of of int, str, float, list, tuple and many more is of metaclass type."
   ]
  },
  {
   "cell_type": "code",
   "execution_count": 1,
   "id": "5eb347ff",
   "metadata": {},
   "outputs": [
    {
     "ename": "TypeError",
     "evalue": "Inherited multiple base classes!!!",
     "output_type": "error",
     "traceback": [
      "\u001b[1;31m---------------------------------------------------------------------------\u001b[0m",
      "\u001b[1;31mTypeError\u001b[0m                                 Traceback (most recent call last)",
      "\u001b[1;32m~\\AppData\\Local\\Temp/ipykernel_9128/3740800057.py\u001b[0m in \u001b[0;36m<module>\u001b[1;34m\u001b[0m\n\u001b[0;32m     27\u001b[0m \u001b[1;33m\u001b[0m\u001b[0m\n\u001b[0;32m     28\u001b[0m \u001b[1;31m# This will raise an error!\u001b[0m\u001b[1;33m\u001b[0m\u001b[1;33m\u001b[0m\u001b[0m\n\u001b[1;32m---> 29\u001b[1;33m \u001b[1;32mclass\u001b[0m \u001b[0mC\u001b[0m\u001b[1;33m(\u001b[0m\u001b[0mA\u001b[0m\u001b[1;33m,\u001b[0m \u001b[0mB\u001b[0m\u001b[1;33m)\u001b[0m\u001b[1;33m:\u001b[0m\u001b[1;33m\u001b[0m\u001b[1;33m\u001b[0m\u001b[0m\n\u001b[0m\u001b[0;32m     30\u001b[0m         \u001b[1;32mpass\u001b[0m\u001b[1;33m\u001b[0m\u001b[1;33m\u001b[0m\u001b[0m\n",
      "\u001b[1;32m~\\AppData\\Local\\Temp/ipykernel_9128/3740800057.py\u001b[0m in \u001b[0;36m__new__\u001b[1;34m(cls, clsname, bases, clsdict)\u001b[0m\n\u001b[0;32m      6\u001b[0m                 \u001b[1;31m# raise error\u001b[0m\u001b[1;33m\u001b[0m\u001b[1;33m\u001b[0m\u001b[0m\n\u001b[0;32m      7\u001b[0m                 \u001b[1;32mif\u001b[0m \u001b[0mlen\u001b[0m\u001b[1;33m(\u001b[0m\u001b[0mbases\u001b[0m\u001b[1;33m)\u001b[0m\u001b[1;33m>\u001b[0m\u001b[1;36m1\u001b[0m\u001b[1;33m:\u001b[0m\u001b[1;33m\u001b[0m\u001b[1;33m\u001b[0m\u001b[0m\n\u001b[1;32m----> 8\u001b[1;33m                         \u001b[1;32mraise\u001b[0m \u001b[0mTypeError\u001b[0m\u001b[1;33m(\u001b[0m\u001b[1;34m\"Inherited multiple base classes!!!\"\u001b[0m\u001b[1;33m)\u001b[0m\u001b[1;33m\u001b[0m\u001b[1;33m\u001b[0m\u001b[0m\n\u001b[0m\u001b[0;32m      9\u001b[0m \u001b[1;33m\u001b[0m\u001b[0m\n\u001b[0;32m     10\u001b[0m                 \u001b[1;31m# else execute __new__ method of super class, ie.\u001b[0m\u001b[1;33m\u001b[0m\u001b[1;33m\u001b[0m\u001b[0m\n",
      "\u001b[1;31mTypeError\u001b[0m: Inherited multiple base classes!!!"
     ]
    }
   ],
   "source": [
    "# our metaclass\n",
    "class MultiBases(type):\n",
    "\t# overriding __new__ method\n",
    "\tdef __new__(cls, clsname, bases, clsdict):\n",
    "\t\t# if no of base classes is greater than 1\n",
    "\t\t# raise error\n",
    "\t\tif len(bases)>1:\n",
    "\t\t\traise TypeError(\"Inherited multiple base classes!!!\")\n",
    "\t\t\n",
    "\t\t# else execute __new__ method of super class, ie.\n",
    "\t\t# call __init__ of type class\n",
    "\t\treturn super().__new__(cls, clsname, bases, clsdict)\n",
    "\n",
    "# metaclass can be specified by 'metaclass' keyword argument\n",
    "# now MultiBase class is used for creating classes\n",
    "# this will be propagated to all subclasses of Base\n",
    "class Base(metaclass=MultiBases):\n",
    "\tpass\n",
    "\n",
    "# no error is raised\n",
    "class A(Base):\n",
    "\tpass\n",
    "\n",
    "# no error is raised\n",
    "class B(Base):\n",
    "\tpass\n",
    "\n",
    "# This will raise an error!\n",
    "class C(A, B):\n",
    "\tpass"
   ]
  },
  {
   "cell_type": "markdown",
   "id": "75793116",
   "metadata": {},
   "source": [
    "# \n",
    "Q2. What is the best way to declare a class's metaclass?\n",
    "\n",
    "Ans: A way to declare a class’ metaclass is by using metaclass keyword in class definition."
   ]
  },
  {
   "cell_type": "code",
   "execution_count": 2,
   "id": "791bdb9a",
   "metadata": {},
   "outputs": [
    {
     "name": "stdout",
     "output_type": "stream",
     "text": [
      "<class 'type'>\n",
      "<class '__main__.meta'>\n"
     ]
    }
   ],
   "source": [
    "class meta(type):\n",
    "    pass\n",
    "class class_meta(metaclass=meta):\n",
    "    pass\n",
    "print(type(meta))\n",
    "print(type(class_meta))"
   ]
  },
  {
   "cell_type": "markdown",
   "id": "0f9c11af",
   "metadata": {},
   "source": [
    "# \n",
    "Q3. How do class decorators overlap with metaclasses for handling classes ?\n",
    "\n",
    "Ans: Anything you can do with a class decorator, you can of course do with a custom metaclasses (just apply the functionality of the \"decorator function\", i.e., the one that takes a class object and modifies it, in the course of the metaclass's __new__ or __init__ that make the class object!).\n",
    "\n",
    "Q4. How do class decorators overlap with metaclasses for handling instances?\n",
    "\n",
    "Ans: Anything you can do with a class decorator, you can of course do with a custom metaclass (just apply the functionality of the \"decorator function\", i.e., the one that takes a class object and modifies it, in the course of the metaclass's __new__ or __init__ that make the class object!)."
   ]
  },
  {
   "cell_type": "code",
   "execution_count": null,
   "id": "72268ef6",
   "metadata": {},
   "outputs": [],
   "source": []
  }
 ],
 "metadata": {
  "kernelspec": {
   "display_name": "Python 3 (ipykernel)",
   "language": "python",
   "name": "python3"
  },
  "language_info": {
   "codemirror_mode": {
    "name": "ipython",
    "version": 3
   },
   "file_extension": ".py",
   "mimetype": "text/x-python",
   "name": "python",
   "nbconvert_exporter": "python",
   "pygments_lexer": "ipython3",
   "version": "3.9.7"
  }
 },
 "nbformat": 4,
 "nbformat_minor": 5
}
