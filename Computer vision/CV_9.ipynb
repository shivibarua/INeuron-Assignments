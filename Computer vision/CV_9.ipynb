{
 "cells": [
  {
   "cell_type": "markdown",
   "id": "05b47568",
   "metadata": {},
   "source": [
    "# Assignment 09 Solutions\n",
    "\n",
    "3. What are five things you might do to fix the problem if your GPU runs out of memory while training a CNN ?\n",
    " \n",
    "4. Why would you use a max pooling layer instead with a convolutional layer of the same stride ?\n",
    " \n",
    "5. When would a local response normalization layer be useful ?\n",
    " \n",
    "6. In comparison to LeNet-5, what are the main innovations in AlexNet? What about GoogLeNet and ResNet's core innovations ?\n",
    " \n",
    "7. On MNIST, build your own CNN and strive to achieve the best possible accuracy.\n",
    "1. What are the advantages of a CNN for image classification over a completely linked DNN ?\n",
    " \n",
    "2. Consider a CNN with three convolutional layers, each of which has three kernels, a stride of two, and SAME padding. The bottom layer generates 100 function maps, the middle layer 200, and the top layer 400. RGB images with a size of 200 x 300 pixels are used as input. How many criteria does the CNN have in total? How much RAM would this network need when making a single instance prediction if we're using 32-bit floats? What if you were to practice on a batch of 50 images ?\n",
    "\n",
    "3. What are five things you might do to fix the problem if your GPU runs out of memory while training a CNN ?\n",
    " \n",
    "4. Why would you use a max pooling layer instead with a convolutional layer of the same stride ?\n",
    " \n",
    "5. When would a local response normalization layer be useful ?\n",
    " \n",
    "6. In comparison to LeNet-5, what are the main innovations in AlexNet? What about GoogLeNet and ResNet's core innovations ?\n",
    " \n",
    "7. On MNIST, build your own CNN and strive to achieve the best possible accuracy.\n",
    "\n",
    "8. Using Inception v3 to classify broad images.\n",
    "\n",
    "Images of different animals can be downloaded. Load them in Python using the matplotlib.image.mpimg.imread() or scipy.misc.imread() functions, for example. Resize and/or crop them to 299 x 299 pixels, and make sure they only have three channels (RGB) and no transparency. The photos used to train the Inception model were preprocessed to have values ranging from -1.0 to 1.0, so make sure yours do as well.\n",
    " \n",
    "9. Large-scale image recognition using transfer learning.\n",
    "\n",
    "Make a training set of at least 100 images for each class. You might, for example, identify your own photos based on their position (beach, mountain, area, etc.) or use an existing dataset, such as the flowers dataset or MIT's places dataset (requires registration, and it is huge).\n",
    "Create a preprocessing phase that resizes and crops the image to 299 x 299 pixels while also adding some randomness for data augmentation.\n",
    "Using the previously trained Inception v3 model, freeze all layers up to the bottleneck layer (the last layer before output layer) and replace output layer with appropriate number of outputs for your new classification task (e.g., the flowers dataset has five mutually exclusive classes so the output layer must have five neurons and use softmax activation function).\n",
    "Separate the data into two sets: a training and a test set. The training set is used to train the model, and the test set is used to evaluate it."
   ]
  },
  {
   "cell_type": "code",
   "execution_count": null,
   "id": "a1e4a621",
   "metadata": {},
   "outputs": [],
   "source": []
  }
 ],
 "metadata": {
  "kernelspec": {
   "display_name": "Python 3 (ipykernel)",
   "language": "python",
   "name": "python3"
  },
  "language_info": {
   "codemirror_mode": {
    "name": "ipython",
    "version": 3
   },
   "file_extension": ".py",
   "mimetype": "text/x-python",
   "name": "python",
   "nbconvert_exporter": "python",
   "pygments_lexer": "ipython3",
   "version": "3.9.7"
  }
 },
 "nbformat": 4,
 "nbformat_minor": 5
}
