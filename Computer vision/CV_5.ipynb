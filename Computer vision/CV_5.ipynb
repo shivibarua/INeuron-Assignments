{
 "cells": [
  {
   "cell_type": "markdown",
   "id": "99c52b8a",
   "metadata": {},
   "source": [
    "# Assignment 05 Solutions\n",
    "\n",
    "1. How can each of these parameters be fine-tuned? • Number of hidden layers\n",
    "\n",
    "Network architecture (network depth)\n",
    "\n",
    "Each layer's number of neurons (layer width)\n",
    "\n",
    "Form of activation\n",
    "\n",
    "Optimization and learning\n",
    "\n",
    "Learning rate and decay schedule\n",
    "\n",
    "Mini batch size\n",
    "\n",
    "Algorithms for optimization\n",
    "\n",
    "The number of epochs (and early stopping criteria)\n",
    "\n",
    "Overfitting that be avoided by using regularization techniques.\n",
    "\n",
    "L2 normalization\n",
    "\n",
    "Drop out layers\n",
    "\n",
    "Data augmentation"
   ]
  },
  {
   "cell_type": "code",
   "execution_count": null,
   "id": "9fa41b36",
   "metadata": {},
   "outputs": [],
   "source": []
  }
 ],
 "metadata": {
  "kernelspec": {
   "display_name": "Python 3 (ipykernel)",
   "language": "python",
   "name": "python3"
  },
  "language_info": {
   "codemirror_mode": {
    "name": "ipython",
    "version": 3
   },
   "file_extension": ".py",
   "mimetype": "text/x-python",
   "name": "python",
   "nbconvert_exporter": "python",
   "pygments_lexer": "ipython3",
   "version": "3.9.7"
  }
 },
 "nbformat": 4,
 "nbformat_minor": 5
}
