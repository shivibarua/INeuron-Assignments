{
 "cells": [
  {
   "cell_type": "markdown",
   "id": "f707e7de",
   "metadata": {},
   "source": [
    "#Assignment 03 Solutions\n",
    "\n",
    "1. After each stride-2 conv, why do we double the number of filters?\n",
    " \n",
    "2. Why do we use a larger kernel with MNIST (with simple cnn) in the first conv ?\n",
    " \n",
    "3. What data is saved by ActivationStats for each layer ?\n",
    " \n",
    "4. How do we get a learner's callback after they've completed training ?\n",
    " \n",
    "5. What are the drawbacks of activations above zero ?\n",
    "\n",
    "6.Draw up the benefits and drawbacks of practicing in larger batches ?\n",
    " \n",
    "7. Why should we avoid starting training with a high learning rate ?\n",
    " \n",
    "8. What are the pros of studying with a high rate of learning ?\n",
    " \n",
    "9. Why do we want to end the training with a low learning rate "
   ]
  },
  {
   "cell_type": "code",
   "execution_count": null,
   "id": "8eada0ab",
   "metadata": {},
   "outputs": [],
   "source": []
  }
 ],
 "metadata": {
  "kernelspec": {
   "display_name": "Python 3 (ipykernel)",
   "language": "python",
   "name": "python3"
  },
  "language_info": {
   "codemirror_mode": {
    "name": "ipython",
    "version": 3
   },
   "file_extension": ".py",
   "mimetype": "text/x-python",
   "name": "python",
   "nbconvert_exporter": "python",
   "pygments_lexer": "ipython3",
   "version": "3.9.7"
  }
 },
 "nbformat": 4,
 "nbformat_minor": 5
}
