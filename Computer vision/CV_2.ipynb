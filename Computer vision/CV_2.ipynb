{
 "cells": [
  {
   "cell_type": "markdown",
   "id": "f11ae966",
   "metadata": {},
   "source": [
    "# Assignment 02 Solutions\n",
    "\n",
    "1. Explain convolutional neural network, and how does it work ?\n",
    " \n",
    "2. How does refactoring parts of your neural network definition favor you ?\n",
    " \n",
    "3. What does it mean to flatten? Is it necessary to include it in the MNIST CNN? What is the reason for this ?\n",
    " \n",
    "4. What exactly does NCHW stand for ?\n",
    "\n",
    "Ans: NCHW stands for: batch N, channels C, depth D, height H, width W. It is a way to store multidimensional arrays / data frames / matrix into memory, which can be considered as a 1-D array.\n",
    "\n",
    "8. What is the tensor representation of a color image ?\n",
    "\n",
    "Ans: The representation of an image can take many forms. Most of the time, it refers to the way that the conveyed information, such as color, is coded digitally and how the image is stored, i.e., how is structured an image file. Several open or patented standards were proposed to create, manipulate, store and exchange digital images. They describe the format of image files, the algorithms of image encoding such as compression as well as the format of additional information often called metadata.\n",
    "\n",
    "TENSORS IMAGES\n",
    "Tensors can be understood as nested lists of objects of the previous order all with the same size. For example, an order three tensor can be thought of as a list of matrices all of which have the same number of rows and columns. These matrices are tensors of order two and since they have all the same number of rows and columns, the tensor of order three is actually like a cuboid of numbers and we can find numbers by going along any of the three-axis. Each number is identified by the row, the column, and the depth at which it’s stored. We can formalize this idea in the concept of shape.\n",
    "\n",
    "9. How does a color input interact with a convolution ?"
   ]
  },
  {
   "cell_type": "code",
   "execution_count": null,
   "id": "82c81d76",
   "metadata": {},
   "outputs": [],
   "source": []
  }
 ],
 "metadata": {
  "kernelspec": {
   "display_name": "Python 3 (ipykernel)",
   "language": "python",
   "name": "python3"
  },
  "language_info": {
   "codemirror_mode": {
    "name": "ipython",
    "version": 3
   },
   "file_extension": ".py",
   "mimetype": "text/x-python",
   "name": "python",
   "nbconvert_exporter": "python",
   "pygments_lexer": "ipython3",
   "version": "3.9.7"
  }
 },
 "nbformat": 4,
 "nbformat_minor": 5
}
