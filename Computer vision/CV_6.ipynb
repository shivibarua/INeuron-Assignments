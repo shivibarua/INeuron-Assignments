{
 "cells": [
  {
   "cell_type": "markdown",
   "id": "5a1a35d5",
   "metadata": {},
   "source": [
    "# Assignment 06 Solutions\n",
    "\n",
    "1. What is the difference between TRAINABLE and NON-TRAINABLE PARAMETERS ?\n",
    " \n",
    "2. In the CNN architecture, where does the DROPOUT LAYER go ?\n",
    " \n",
    "3. What is the optimal number of hidden layers to stack ?\n",
    " \n",
    "4. In each layer, how many secret units or filters should there be ?\n",
    " \n",
    "5. What should your initial learning rate be ?\n",
    " \n",
    "6. What do you do with the activation function ?\n",
    " \n",
    "7. What is NORMALIZATION OF DATA ?\n",
    " \n",
    "8. What is IMAGE AUGMENTATION and how does it work ?\n",
    " \n",
    "9. What is DECLINE IN LEARNING RATE ?\n",
    "\n",
    "10. What does EARLY STOPPING CRITERIA mean ?"
   ]
  },
  {
   "cell_type": "code",
   "execution_count": null,
   "id": "f15f473a",
   "metadata": {},
   "outputs": [],
   "source": []
  }
 ],
 "metadata": {
  "kernelspec": {
   "display_name": "Python 3 (ipykernel)",
   "language": "python",
   "name": "python3"
  },
  "language_info": {
   "codemirror_mode": {
    "name": "ipython",
    "version": 3
   },
   "file_extension": ".py",
   "mimetype": "text/x-python",
   "name": "python",
   "nbconvert_exporter": "python",
   "pygments_lexer": "ipython3",
   "version": "3.9.7"
  }
 },
 "nbformat": 4,
 "nbformat_minor": 5
}
