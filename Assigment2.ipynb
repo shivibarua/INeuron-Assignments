{
 "cells": [
  {
   "cell_type": "code",
   "execution_count": null,
   "id": "da3140a8",
   "metadata": {},
   "outputs": [],
   "source": [
    "1. What are the two values of the Boolean data type? How do you write them?"
   ]
  },
  {
   "cell_type": "code",
   "execution_count": null,
   "id": "37fc12b8",
   "metadata": {},
   "outputs": [],
   "source": [
    "True and False using capital T and F with the rest of the word in lowercase."
   ]
  },
  {
   "cell_type": "code",
   "execution_count": null,
   "id": "d897d9a2",
   "metadata": {},
   "outputs": [],
   "source": [
    "2. What are the three Boolean operators?"
   ]
  },
  {
   "cell_type": "code",
   "execution_count": null,
   "id": "c720f368",
   "metadata": {},
   "outputs": [],
   "source": [
    "and, or, and not "
   ]
  },
  {
   "cell_type": "code",
   "execution_count": null,
   "id": "9276288f",
   "metadata": {},
   "outputs": [],
   "source": [
    "3. Make a list of each Boolean operators truth tables (i.e. every possible combination of Boolean\n",
    "values for the operator and what it evaluate )."
   ]
  },
  {
   "cell_type": "raw",
   "id": "ffb56ed7",
   "metadata": {},
   "source": [
    "True and True is True.\n",
    "\n",
    "True and False is False.\n",
    "\n",
    "False and True is False.\n",
    "\n",
    "False and False is False.\n",
    "\n",
    "True or True is True.\n",
    "\n",
    "True or False is True.\n",
    "\n",
    "False or True is True.\n",
    "\n",
    "False or False is False.\n",
    "\n",
    "not True is False.\n",
    "\n",
    "not False is True."
   ]
  },
  {
   "cell_type": "code",
   "execution_count": null,
   "id": "ed6bfe3d",
   "metadata": {},
   "outputs": [],
   "source": [
    "3.What are the value of following expressions?"
   ]
  },
  {
   "cell_type": "raw",
   "id": "d987d15f",
   "metadata": {},
   "source": [
    "(5 > 4) and (3 == 5) - False\n",
    "not (5 > 4) - False \n",
    "(5 > 4) or (3 == 5) - True \n",
    "not ((5 > 4) or (3 == 5)) - False \n",
    "(True and True) and (True == False) - False\n",
    "(not False) or (not True) - True "
   ]
  },
  {
   "cell_type": "code",
   "execution_count": null,
   "id": "0d911b79",
   "metadata": {},
   "outputs": [],
   "source": [
    "4. What are the six comparison operators?"
   ]
  },
  {
   "cell_type": "code",
   "execution_count": null,
   "id": "0a46c3ce",
   "metadata": {},
   "outputs": [],
   "source": [
    "==, !=, <, >, <=, >=."
   ]
  },
  {
   "cell_type": "code",
   "execution_count": null,
   "id": "5570d9e2",
   "metadata": {},
   "outputs": [],
   "source": [
    "5. What is the difference between the equal to operator and the assignment operator? Describe a\n",
    "condition and when you would use one."
   ]
  },
  {
   "cell_type": "code",
   "execution_count": null,
   "id": "abe05f28",
   "metadata": {},
   "outputs": [],
   "source": [
    "== is the equal to operator that compares two values and evaluates to a Boolean,\n",
    "while = is the assignment operator that stores a value in a variable."
   ]
  },
  {
   "cell_type": "code",
   "execution_count": null,
   "id": "c469a116",
   "metadata": {},
   "outputs": [],
   "source": [
    "6. Identify the three blocks in this code:\n",
    "    spam = 0\n",
    "if spam == 10:\n",
    " print('eggs')\n",
    "if spam > 5:\n",
    " print('bacon')\n",
    "else:\n",
    " print('ham')\n",
    " print('spam')\n",
    " print('spam')"
   ]
  },
  {
   "cell_type": "code",
   "execution_count": null,
   "id": "79f26b82",
   "metadata": {},
   "outputs": [],
   "source": [
    "The three blocks are everything inside the if statement and the lines print('bacon') and print('ham').\n",
    "\n",
    "print('eggs')\n",
    "if spam > 5:\n",
    " print('bacon')\n",
    "else:\n",
    " print('ham')\n",
    " print('spam')"
   ]
  },
  {
   "cell_type": "code",
   "execution_count": null,
   "id": "e93c4db4",
   "metadata": {},
   "outputs": [],
   "source": [
    "7. Write code that prints Hello if 1 is stored in spam,\n",
    "prints Howdy if 2 is stored in spam, and prints Greetings! if anything else is stored in spam."
   ]
  },
  {
   "cell_type": "code",
   "execution_count": 10,
   "id": "547c1b9f",
   "metadata": {
    "scrolled": true
   },
   "outputs": [
    {
     "ename": "NameError",
     "evalue": "name 'spam' is not defined",
     "output_type": "error",
     "traceback": [
      "\u001b[1;31m---------------------------------------------------------------------------\u001b[0m",
      "\u001b[1;31mNameError\u001b[0m                                 Traceback (most recent call last)",
      "\u001b[1;32m~\\AppData\\Local\\Temp/ipykernel_744/3701689392.py\u001b[0m in \u001b[0;36m<module>\u001b[1;34m\u001b[0m\n\u001b[1;32m----> 1\u001b[1;33m \u001b[1;32mif\u001b[0m \u001b[0mspam\u001b[0m \u001b[1;33m==\u001b[0m \u001b[1;36m1\u001b[0m\u001b[1;33m:\u001b[0m\u001b[1;33m\u001b[0m\u001b[1;33m\u001b[0m\u001b[0m\n\u001b[0m\u001b[0;32m      2\u001b[0m  \u001b[0mprint\u001b[0m\u001b[1;33m(\u001b[0m\u001b[1;34m'Hello'\u001b[0m\u001b[1;33m)\u001b[0m\u001b[1;33m\u001b[0m\u001b[1;33m\u001b[0m\u001b[0m\n\u001b[0;32m      3\u001b[0m \u001b[1;32melif\u001b[0m \u001b[0mspam\u001b[0m \u001b[1;33m==\u001b[0m \u001b[1;36m2\u001b[0m\u001b[1;33m:\u001b[0m\u001b[1;33m\u001b[0m\u001b[1;33m\u001b[0m\u001b[0m\n\u001b[0;32m      4\u001b[0m  \u001b[0mprint\u001b[0m\u001b[1;33m(\u001b[0m\u001b[1;34m'Howdy'\u001b[0m\u001b[1;33m)\u001b[0m\u001b[1;33m\u001b[0m\u001b[1;33m\u001b[0m\u001b[0m\n\u001b[0;32m      5\u001b[0m \u001b[1;32melse\u001b[0m\u001b[1;33m:\u001b[0m\u001b[1;33m\u001b[0m\u001b[1;33m\u001b[0m\u001b[0m\n",
      "\u001b[1;31mNameError\u001b[0m: name 'spam' is not defined"
     ]
    }
   ],
   "source": [
    "if spam == 1:\n",
    " print('Hello')\n",
    "elif spam == 2:\n",
    " print('Howdy')\n",
    "else:\n",
    " print('Greetings!')"
   ]
  },
  {
   "cell_type": "code",
   "execution_count": null,
   "id": "32b95516",
   "metadata": {},
   "outputs": [],
   "source": [
    "9.If your programme is stuck in an endless loop, what keys you’ll press?"
   ]
  },
  {
   "cell_type": "code",
   "execution_count": null,
   "id": "7e57a12b",
   "metadata": {},
   "outputs": [],
   "source": [
    "Press CTRL-C to stop a program stuck in an infinite loop."
   ]
  },
  {
   "cell_type": "code",
   "execution_count": null,
   "id": "c21ebca9",
   "metadata": {},
   "outputs": [],
   "source": [
    "10. How can you tell the difference between break and continue?"
   ]
  },
  {
   "cell_type": "code",
   "execution_count": null,
   "id": "ef660952",
   "metadata": {},
   "outputs": [],
   "source": [
    "The break statement will move the execution outside and just after a loop. \n",
    "The continue statement will move the execution to the start of the loop."
   ]
  },
  {
   "cell_type": "code",
   "execution_count": null,
   "id": "1a01dcf7",
   "metadata": {},
   "outputs": [],
   "source": [
    "11. In a for loop, what is the difference between range(10), range(0, 10), and range(0, 10, 1)?"
   ]
  },
  {
   "cell_type": "code",
   "execution_count": null,
   "id": "db957d86",
   "metadata": {},
   "outputs": [],
   "source": [
    "They all do the same thing. The range(10) call ranges from 0 up to (but not including) 10, \n",
    "range(0, 10) explicitly tells the loop to start at 0, \n",
    "and range(0, 10, 1) explicitly tells the loop to increase the variable by 1 on each iteration."
   ]
  },
  {
   "cell_type": "code",
   "execution_count": null,
   "id": "60e417c5",
   "metadata": {},
   "outputs": [],
   "source": [
    "12. Write a short program that prints the numbers 1 to 10 using a for loop. \n",
    "Then write an equivalent program that prints the numbers 1 to 10 using a while loop.\n"
   ]
  },
  {
   "cell_type": "code",
   "execution_count": 18,
   "id": "61beadd0",
   "metadata": {},
   "outputs": [
    {
     "ename": "IndentationError",
     "evalue": "expected an indented block (Temp/ipykernel_744/1635050478.py, line 2)",
     "output_type": "error",
     "traceback": [
      "\u001b[1;36m  File \u001b[1;32m\"C:\\Users\\shibarua\\AppData\\Local\\Temp/ipykernel_744/1635050478.py\"\u001b[1;36m, line \u001b[1;32m2\u001b[0m\n\u001b[1;33m    print(i)\u001b[0m\n\u001b[1;37m    ^\u001b[0m\n\u001b[1;31mIndentationError\u001b[0m\u001b[1;31m:\u001b[0m expected an indented block\n"
     ]
    }
   ],
   "source": [
    "for i in range(1, 11):\n",
    "print(i)\n",
    "\n",
    "and:\n",
    "\n",
    "i = 1\n",
    "while i <= 10:\n",
    "print(i)\n",
    "i = i + 1"
   ]
  },
  {
   "cell_type": "code",
   "execution_count": null,
   "id": "329da838",
   "metadata": {},
   "outputs": [],
   "source": [
    "i = 1\n",
    "while(i<=10):\n",
    "    print(i)\n",
    "i = i + 1"
   ]
  },
  {
   "cell_type": "code",
   "execution_count": null,
   "id": "4c18c74e",
   "metadata": {},
   "outputs": [],
   "source": [
    "13. If you had a function named bacon() inside a module named spam, how would you call it after importing spam?"
   ]
  },
  {
   "cell_type": "code",
   "execution_count": null,
   "id": "7df4e2a6",
   "metadata": {},
   "outputs": [],
   "source": [
    "This function can be called with spam.bacon()."
   ]
  }
 ],
 "metadata": {
  "kernelspec": {
   "display_name": "Python 3 (ipykernel)",
   "language": "python",
   "name": "python3"
  },
  "language_info": {
   "codemirror_mode": {
    "name": "ipython",
    "version": 3
   },
   "file_extension": ".py",
   "mimetype": "text/x-python",
   "name": "python",
   "nbconvert_exporter": "python",
   "pygments_lexer": "ipython3",
   "version": "3.9.7"
  }
 },
 "nbformat": 4,
 "nbformat_minor": 5
}
