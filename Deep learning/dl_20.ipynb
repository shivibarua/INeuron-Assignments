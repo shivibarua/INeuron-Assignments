{
 "cells": [
  {
   "cell_type": "markdown",
   "id": "bfa9ee08",
   "metadata": {},
   "source": [
    "# \n",
    "Practical Assignment_20 Solutions\n",
    "\n",
    "Objective: - Hand Gesture Recognition\n",
    "In this project, you are going to determine the gesture of the hand in real-time using a webcam. First, the background is separated from the hand region and then the fingers are segmented to predict hand gestures. With different hand gestures, you can perform different actions.\n",
    "\n",
    "Dataset Link:\n",
    "Use anyone of your choice.\n",
    "\n",
    "Task:\n",
    "Create a Desktop App for real time detection where the user can show hand gestures and identify them.\n",
    "\n",
    "Deployment:\n",
    "Any Free Platform(Try to look out for free options.)\n",
    "\n",
    "Assignment Submission:\n",
    "Only submit the hosted app link. OR GitHub Link"
   ]
  },
  {
   "cell_type": "code",
   "execution_count": null,
   "id": "56c5bc37",
   "metadata": {},
   "outputs": [],
   "source": []
  }
 ],
 "metadata": {
  "kernelspec": {
   "display_name": "Python 3 (ipykernel)",
   "language": "python",
   "name": "python3"
  },
  "language_info": {
   "codemirror_mode": {
    "name": "ipython",
    "version": 3
   },
   "file_extension": ".py",
   "mimetype": "text/x-python",
   "name": "python",
   "nbconvert_exporter": "python",
   "pygments_lexer": "ipython3",
   "version": "3.9.7"
  }
 },
 "nbformat": 4,
 "nbformat_minor": 5
}
