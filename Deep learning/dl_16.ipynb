{
 "cells": [
  {
   "cell_type": "markdown",
   "id": "7aee0789",
   "metadata": {},
   "source": [
    "# \n",
    "Practical Assignment_16 Solutions\n",
    "\n",
    "Objective: - Generate Human Faces with DCGAN\n",
    "Powerful techniques to generate images, audio, text, or videos that are indistinguishable from real-world data. The idea behind this project is to start with random noise and apply DCGAN to generate real-like human faces that don’t even exist.\n",
    "\n",
    "Dataset Link:\n",
    "Use any dataset of your choice\n",
    "\n",
    "Task:\n",
    "Create a detailed Google Colab Notebook Result with proper documentation.\n",
    "\n",
    "Assignment Submission:\n",
    "Only submit the hosted app link. OR GitHub Link"
   ]
  },
  {
   "cell_type": "code",
   "execution_count": null,
   "id": "691444e0",
   "metadata": {},
   "outputs": [],
   "source": []
  }
 ],
 "metadata": {
  "kernelspec": {
   "display_name": "Python 3 (ipykernel)",
   "language": "python",
   "name": "python3"
  },
  "language_info": {
   "codemirror_mode": {
    "name": "ipython",
    "version": 3
   },
   "file_extension": ".py",
   "mimetype": "text/x-python",
   "name": "python",
   "nbconvert_exporter": "python",
   "pygments_lexer": "ipython3",
   "version": "3.9.7"
  }
 },
 "nbformat": 4,
 "nbformat_minor": 5
}
