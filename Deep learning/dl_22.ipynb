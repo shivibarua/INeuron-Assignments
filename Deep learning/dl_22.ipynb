{
 "cells": [
  {
   "cell_type": "markdown",
   "id": "957db9e2",
   "metadata": {},
   "source": [
    "# \n",
    "Practical Assignment_22 Solutions\n",
    "Objective: - Receipt Scanner\n",
    "Receipt scanners are used everywhere and they store the contents of the bill or receipts.\n",
    "\n",
    "image.png\n",
    "Dataset Link:\n",
    "Use anyone of your choice. Ex:- https://www.kaggle.com/rahulsah06/data-extraction-from-receipt\n",
    "\n",
    "Task:\n",
    "Create a Web App where you can user can upload a receipt and get the contents of the receipt.\n",
    "\n",
    "Deployment:\n",
    "Any Free Platform(Try to look out for free options.)\n",
    "\n",
    "Assignment Submission:\n",
    "Only submit the hosted app link. OR GitHub Link"
   ]
  },
  {
   "cell_type": "code",
   "execution_count": null,
   "id": "4c7df518",
   "metadata": {},
   "outputs": [],
   "source": []
  }
 ],
 "metadata": {
  "kernelspec": {
   "display_name": "Python 3 (ipykernel)",
   "language": "python",
   "name": "python3"
  },
  "language_info": {
   "codemirror_mode": {
    "name": "ipython",
    "version": 3
   },
   "file_extension": ".py",
   "mimetype": "text/x-python",
   "name": "python",
   "nbconvert_exporter": "python",
   "pygments_lexer": "ipython3",
   "version": "3.9.7"
  }
 },
 "nbformat": 4,
 "nbformat_minor": 5
}
