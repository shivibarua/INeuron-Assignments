{
 "cells": [
  {
   "cell_type": "markdown",
   "id": "643a9953",
   "metadata": {},
   "source": [
    "# Practical Assignment_15 Solutions\n",
    "\n",
    "Objective: - Gender and Age Detection\n",
    "You might have seen many smartphone cameras are now equipped with AI. They can even predict if a person is a male or female and their age. This can be done with deep learning but we will need a good amount of data to make this model.\n",
    "\n",
    "Dataset Link:\n",
    "https://drive.google.com/file/d/1yy_poZSFAPKi0y2e2yj9XDe1N8xXYuKB/view\n",
    "\n",
    "Task:\n",
    "Create a Web Application using Flask. Use the end user should be able to upload an image and get results with the prediction score.\n",
    "\n",
    "Deployment:\n",
    "Any Free Platform(Try to look out for free options.)\n",
    "\n",
    "Assignment Submission:\n",
    "Only submit the hosted app link. OR GitHub Link\n",
    "\n",
    " "
   ]
  },
  {
   "cell_type": "code",
   "execution_count": null,
   "id": "0aea153b",
   "metadata": {},
   "outputs": [],
   "source": []
  }
 ],
 "metadata": {
  "kernelspec": {
   "display_name": "Python 3 (ipykernel)",
   "language": "python",
   "name": "python3"
  },
  "language_info": {
   "codemirror_mode": {
    "name": "ipython",
    "version": 3
   },
   "file_extension": ".py",
   "mimetype": "text/x-python",
   "name": "python",
   "nbconvert_exporter": "python",
   "pygments_lexer": "ipython3",
   "version": "3.9.7"
  }
 },
 "nbformat": 4,
 "nbformat_minor": 5
}
