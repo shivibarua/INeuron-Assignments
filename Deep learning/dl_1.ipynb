{
 "cells": [
  {
   "cell_type": "markdown",
   "id": "c3def143",
   "metadata": {},
   "source": [
    "# \n",
    "Practical Assignment_00 Solutions\n",
    "Objective: - Predict Next Sequence\n",
    "To start with deep learning, the very basic project that you can build is to predict the next digit in a sequence.\n",
    "\n",
    "Dataset:\n",
    "Create a sequence like a list of odd numbers and then build a model and train it to predict the next digit in the sequence.\n",
    "\n",
    "Task:\n",
    "A simple neural network with 2 layers would be sufficient to build the model.\n",
    "\n",
    "Assignment Submission:\n",
    "Only submit the Google Colab/Github link.(Make the Link Public)."
   ]
  },
  {
   "cell_type": "code",
   "execution_count": null,
   "id": "bee8b4fc",
   "metadata": {},
   "outputs": [],
   "source": []
  }
 ],
 "metadata": {
  "kernelspec": {
   "display_name": "Python 3 (ipykernel)",
   "language": "python",
   "name": "python3"
  },
  "language_info": {
   "codemirror_mode": {
    "name": "ipython",
    "version": 3
   },
   "file_extension": ".py",
   "mimetype": "text/x-python",
   "name": "python",
   "nbconvert_exporter": "python",
   "pygments_lexer": "ipython3",
   "version": "3.9.7"
  }
 },
 "nbformat": 4,
 "nbformat_minor": 5
}
