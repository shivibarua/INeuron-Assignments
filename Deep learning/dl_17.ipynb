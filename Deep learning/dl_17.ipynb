{
 "cells": [
  {
   "cell_type": "markdown",
   "id": "561d989a",
   "metadata": {},
   "source": [
    "# \n",
    "Practical Assignment_17 Solutions\n",
    "\n",
    "Objective: - Visual Question Answering\n",
    "image.png\n",
    "\n",
    "Dataset Link:\n",
    "https://visualqa.org/vqa_v1_download.html\n",
    "\n",
    "Task:\n",
    "Create a Web Application using Flask. Use the end user should be able to upload an image and ask questions and get the answers.\n",
    "\n",
    "Deployment:\n",
    "Any Free Platform(Try to look out for free options.)\n",
    "\n",
    "Assignment Submission:\n",
    "Only submit the hosted app link. OR GitHub Link"
   ]
  },
  {
   "cell_type": "code",
   "execution_count": null,
   "id": "ccc45d97",
   "metadata": {},
   "outputs": [],
   "source": []
  }
 ],
 "metadata": {
  "kernelspec": {
   "display_name": "Python 3 (ipykernel)",
   "language": "python",
   "name": "python3"
  },
  "language_info": {
   "codemirror_mode": {
    "name": "ipython",
    "version": 3
   },
   "file_extension": ".py",
   "mimetype": "text/x-python",
   "name": "python",
   "nbconvert_exporter": "python",
   "pygments_lexer": "ipython3",
   "version": "3.9.7"
  }
 },
 "nbformat": 4,
 "nbformat_minor": 5
}
