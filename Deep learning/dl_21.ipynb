{
 "cells": [
  {
   "cell_type": "markdown",
   "id": "a5fb3844",
   "metadata": {},
   "source": [
    "# \n",
    "Practical Assignment_21 Solutions\n",
    "\n",
    "Objective: - Vehicle Counting and Classification\n",
    "You can use the computer vision techniques to classify vehicles on the road, HMV(heavy motor vehicle) or LMV( light motor vehicle) and also count the number of vehicles that travel through a road. The data can be stored to analyze the different vehicles that travel from a road.\n",
    "\n",
    "Dataset Link:\n",
    "Use anyone of your choice.\n",
    "\n",
    "Task:\n",
    "Create a Desktop App for videos where we can count and classify the vehicles.\n",
    "\n",
    "Deployment:\n",
    "Any Free Platform(Try to look out for free options.)\n",
    "\n",
    "Assignment Submission:\n",
    "Only submit the hosted app link. OR GitHub Link"
   ]
  },
  {
   "cell_type": "code",
   "execution_count": null,
   "id": "e059f4e7",
   "metadata": {},
   "outputs": [],
   "source": []
  }
 ],
 "metadata": {
  "kernelspec": {
   "display_name": "Python 3 (ipykernel)",
   "language": "python",
   "name": "python3"
  },
  "language_info": {
   "codemirror_mode": {
    "name": "ipython",
    "version": 3
   },
   "file_extension": ".py",
   "mimetype": "text/x-python",
   "name": "python",
   "nbconvert_exporter": "python",
   "pygments_lexer": "ipython3",
   "version": "3.9.7"
  }
 },
 "nbformat": 4,
 "nbformat_minor": 5
}
