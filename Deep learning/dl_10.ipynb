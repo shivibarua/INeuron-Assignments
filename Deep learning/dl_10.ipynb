{
 "cells": [
  {
   "cell_type": "markdown",
   "id": "5302cc62",
   "metadata": {},
   "source": [
    "# Practical Assignment_10 Solutions\n",
    "\n",
    "Objective: - Instance Segmentation with DeepFashion2\n",
    "DeepFashion2 is a comprehensive fashion dataset. It contains 491K diverse images of 13 popular clothing categories from both commercial shopping stores and consumers. It totally has 801K clothing clothing items, where each item in an image is labeled with scale, occlusion, zoom-in, viewpoint, category, style, bounding box, dense landmarks and per-pixel mask.There are also 873K Commercial-Consumer clothes pairs.\n",
    "\n",
    "Dataset Link: -\n",
    "Link :- https://drive.google.com/drive/folders/125F48fsMBz2EF0Cpqk6aaHet5VH399Ok\n",
    "Github :- https://github.com/switchablenorms/DeepFashion2\n",
    "\n",
    "Task:\n",
    "Create a Web Application using FASTAPI. Use the end user should be able to upload an image and get results with the prediction score, class name and bounding box co ordinates. Use any CNN architecture launched after 2018.\n",
    "\n",
    "Deployment:\n",
    "Any Free Platform(Try to look out for free options.)\n",
    "\n",
    "Assignment Submission:\n",
    "Only submit the hosted app link. OR GitHub Link"
   ]
  }
 ],
 "metadata": {
  "kernelspec": {
   "display_name": "Python 3 (ipykernel)",
   "language": "python",
   "name": "python3"
  },
  "language_info": {
   "codemirror_mode": {
    "name": "ipython",
    "version": 3
   },
   "file_extension": ".py",
   "mimetype": "text/x-python",
   "name": "python",
   "nbconvert_exporter": "python",
   "pygments_lexer": "ipython3",
   "version": "3.9.7"
  }
 },
 "nbformat": 4,
 "nbformat_minor": 5
}
