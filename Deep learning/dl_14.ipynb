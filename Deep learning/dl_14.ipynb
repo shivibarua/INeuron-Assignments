{
 "cells": [
  {
   "cell_type": "markdown",
   "id": "450f18a6",
   "metadata": {},
   "source": [
    "# Practical Assignment_14 Solutions\n",
    "\n",
    "Objective: - Neural Style Transfer\n",
    "The idea of this project is to make art by using one image and then transferring the style of that image to the target image.\n",
    "\n",
    "Dataset Link:\n",
    "Use anyone you like.\n",
    "\n",
    "Task:\n",
    "Create a Web Application using FASTAPI. Use the end user should be able to upload an 2 images and get the output photo .\n",
    "\n",
    "Assignment Submission:\n",
    "Only submit the GitHub Link. Create a proper Readme documentation."
   ]
  },
  {
   "cell_type": "code",
   "execution_count": null,
   "id": "b2129b01",
   "metadata": {},
   "outputs": [],
   "source": []
  }
 ],
 "metadata": {
  "kernelspec": {
   "display_name": "Python 3 (ipykernel)",
   "language": "python",
   "name": "python3"
  },
  "language_info": {
   "codemirror_mode": {
    "name": "ipython",
    "version": 3
   },
   "file_extension": ".py",
   "mimetype": "text/x-python",
   "name": "python",
   "nbconvert_exporter": "python",
   "pygments_lexer": "ipython3",
   "version": "3.9.7"
  }
 },
 "nbformat": 4,
 "nbformat_minor": 5
}
