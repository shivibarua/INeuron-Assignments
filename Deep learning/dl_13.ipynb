{
 "cells": [
  {
   "cell_type": "markdown",
   "id": "f7b74915",
   "metadata": {},
   "source": [
    "# Practical Assignment_13 Solutions\n",
    "\n",
    "Objective: - Coloring old Black&White photos\n",
    "Automated image colorization of B&W images has been a hot topic of exploration in the field of computer vision.\n",
    "\n",
    "Dataset Link:\n",
    "Use anyone of your choice.\n",
    "\n",
    "Task:\n",
    "Create a Web Application using FASTAPI. Use the end user should be able to upload an B&W image and get color photos .\n",
    "\n",
    "Assignment Submission:\n",
    "Only submit the GitHub Link. Create a proper Readme documentation."
   ]
  },
  {
   "cell_type": "code",
   "execution_count": null,
   "id": "ba439bd7",
   "metadata": {},
   "outputs": [],
   "source": []
  }
 ],
 "metadata": {
  "kernelspec": {
   "display_name": "Python 3 (ipykernel)",
   "language": "python",
   "name": "python3"
  },
  "language_info": {
   "codemirror_mode": {
    "name": "ipython",
    "version": 3
   },
   "file_extension": ".py",
   "mimetype": "text/x-python",
   "name": "python",
   "nbconvert_exporter": "python",
   "pygments_lexer": "ipython3",
   "version": "3.9.7"
  }
 },
 "nbformat": 4,
 "nbformat_minor": 5
}
