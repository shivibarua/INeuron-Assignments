{
 "cells": [
  {
   "cell_type": "markdown",
   "id": "c75b7491",
   "metadata": {},
   "source": [
    "# Practical Assignment_12 Solutions\n",
    "\n",
    "Objective: - Image caption generator\n",
    "An Image caption generator combines both computer vision and natural language processing techniques to analyze and identify the context of an image and describe them accordingly in natural human languages\n",
    "\n",
    "Dataset Link:\n",
    "Link :- https://www.kaggle.com/adityajn105/flickr8k\n",
    "\n",
    "Task:\n",
    "Create a Web Application using FASTAPI. Use the end user should be able to upload an image and get results with the captions.\n",
    "\n",
    "Assignment Submission:\n",
    "Only submit the GitHub Link. Create a proper Readme documentation."
   ]
  },
  {
   "cell_type": "code",
   "execution_count": null,
   "id": "3e3d535f",
   "metadata": {},
   "outputs": [],
   "source": []
  }
 ],
 "metadata": {
  "kernelspec": {
   "display_name": "Python 3 (ipykernel)",
   "language": "python",
   "name": "python3"
  },
  "language_info": {
   "codemirror_mode": {
    "name": "ipython",
    "version": 3
   },
   "file_extension": ".py",
   "mimetype": "text/x-python",
   "name": "python",
   "nbconvert_exporter": "python",
   "pygments_lexer": "ipython3",
   "version": "3.9.7"
  }
 },
 "nbformat": 4,
 "nbformat_minor": 5
}
