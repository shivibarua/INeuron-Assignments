{
 "cells": [
  {
   "cell_type": "markdown",
   "id": "b2ab774c",
   "metadata": {},
   "source": [
    "# Practical Assignment_01 Solutions\n",
    "\n",
    "Objective: - Image Classification with CIFAR 100\n",
    "This dataset is just like the CIFAR-10, except it has 100 classes containing 600 images each. There are 500 training images and 100 testing images per class. The 100 classes in the CIFAR-100 are grouped into 20 superclasses. Each image comes with a \"fine\" label (the class to which it belongs) and a \"coarse\" label (the superclass to which it belongs).\n",
    "\n",
    "Dataset Link: -\n",
    "https://www.cs.toronto.edu/~kriz/cifar-10-python.tar.gz The dataset is not direct images. Please decode it using your own techniques.\n",
    "\n",
    "Task:\n",
    "Create a Web Application using Flask. Use the end user should be able to upload an image and get results with the prediction score.\n",
    "\n",
    "Deployment:\n",
    "Any Free Platform(Try to look out for free options.)\n",
    "\n",
    "Assignment Submission\n",
    "Only submit the hosted app link."
   ]
  },
  {
   "cell_type": "code",
   "execution_count": null,
   "id": "d95e4547",
   "metadata": {},
   "outputs": [],
   "source": []
  }
 ],
 "metadata": {
  "kernelspec": {
   "display_name": "Python 3 (ipykernel)",
   "language": "python",
   "name": "python3"
  },
  "language_info": {
   "codemirror_mode": {
    "name": "ipython",
    "version": 3
   },
   "file_extension": ".py",
   "mimetype": "text/x-python",
   "name": "python",
   "nbconvert_exporter": "python",
   "pygments_lexer": "ipython3",
   "version": "3.9.7"
  }
 },
 "nbformat": 4,
 "nbformat_minor": 5
}
